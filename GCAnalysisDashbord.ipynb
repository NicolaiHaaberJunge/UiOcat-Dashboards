{
 "cells": [
  {
   "cell_type": "code",
   "execution_count": 87,
   "metadata": {
    "autorun": true,
    "jupyter": {
     "source_hidden": true
    }
   },
   "outputs": [
    {
     "name": "stdout",
     "output_type": "stream",
     "text": [
      "The autoreload extension is already loaded. To reload it, use:\n",
      "  %reload_ext autoreload\n"
     ]
    }
   ],
   "source": [
    "%matplotlib widget\n",
    "%load_ext autoreload\n",
    "%autoreload 2\n",
    "\n",
    "import ipywidgets as widgets\n",
    "from ipywidgets import Output, HBox, VBox\n",
    "\n",
    "from IPython.display import display, clear_output\n",
    "\n",
    "import numpy as np\n",
    "import pandas as pd\n",
    "import matplotlib.pyplot as plt\n",
    "from matplotlib.ticker import FormatStrFormatter\n",
    "from uiocat.analysis import GC_Analysis\n",
    "from uiocat.reactions import Reaction\n",
    "from uiocat.instrument import CoFeedRig, HighPressureRig\n",
    "import datetime as dt\n",
    "import os\n",
    "import glob\n",
    "\n",
    "plt.style.use('bmh')\n",
    "plt.rcParams[\"figure.figsize\"] = (6, 4)"
   ]
  },
  {
   "cell_type": "markdown",
   "metadata": {},
   "source": [
    "# UiO Catalysis Catalytic Testing"
   ]
  },
  {
   "cell_type": "markdown",
   "metadata": {},
   "source": [
    "## Data Analysis Dashbord"
   ]
  },
  {
   "cell_type": "markdown",
   "metadata": {},
   "source": [
    "This dashbord analysis your \"time-on-stream\" data and calculates conversion, yield, and selectivity.\n",
    "You can export the results to an excel report by clicking \"Export to Excel\" <br>\n",
    "The saved excel report will be located in the same directory as your data."
   ]
  },
  {
   "cell_type": "code",
   "execution_count": 88,
   "metadata": {
    "autorun": true,
    "jupyter": {
     "source_hidden": true
    }
   },
   "outputs": [],
   "source": [
    "#### COFEED RIG LAYOUT\n",
    "\n",
    "\n",
    "layout = {'width': '700px'}  # Setting the widgets layout\n",
    "style = {'description_width': '100px'}  # Setting the widget style\n",
    "\n",
    "# The widget for raw data path\n",
    "cofeed_input_folder = widgets.Text(\n",
    "    placeholder='Folder Path',\n",
    "    description='Directory',\n",
    "    disabled=False,\n",
    "    layout=layout, style=style)\n",
    "\n",
    "# The widget for MS file name\n",
    "cofeed_file = widgets.Select(\n",
    "    description='Data files',\n",
    "    disabled=False,\n",
    "    layout=layout, style=style)\n",
    "\n",
    "cofeed_button_analysis = widgets.Button(description=\"Run Analysis\")\n",
    "cofeed_output_analysis = widgets.Output()\n",
    "\n",
    "cofeed_button_report = widgets.Button(description=\"Export to Excel\")\n",
    "cofeed_output_report = widgets.Output()\n",
    "\n",
    "cofeed_button_clear = widgets.Button(description=\"Clear Window\")\n",
    "\n",
    "cofeed_Buttons = widgets.HBox([cofeed_button_analysis, cofeed_button_report, cofeed_button_clear]\n",
    "                             , layout=widgets.Layout(display='flex', flex_flow='row', padding='10px 0 0 175px'))\n",
    "cofeed_Outputs = widgets.VBox([cofeed_output_report, cofeed_output_analysis])\n",
    "\n",
    "cofeed_ButtonSegment = VBox([cofeed_Buttons, cofeed_Outputs])\n",
    "\n",
    "def on_cofeed_dir_change(change):\n",
    "    files = os.listdir(change.new)\n",
    "    files_csv = [f for f in files if '.csv' in f]\n",
    "    cofeed_file.options = files_csv\n",
    "    \n",
    "    return\n",
    "\n",
    "def cofeed_on_button_clicked(b):\n",
    "    global cofeed_analysis\n",
    "    \n",
    "    with cofeed_output_analysis:\n",
    "        clear_output()\n",
    "        if (cofeed_file.value == '') or (cofeed_input_folder.value == ''):\n",
    "            print(\"Insert file and folder paths!!\")\n",
    "        else:\n",
    "            File_GC = os.path.join(cofeed_input_folder.value, cofeed_file.value)\n",
    "            MTH = Reaction(reac='mth')  # First we define the reaction\n",
    "            Co_Feed = CoFeedRig(File_GC, measurment_offset=5)  # Load instrument which contains instrument specific data such as respons factors\n",
    "            cofeed_analysis = GC_Analysis(MTH, Co_Feed)  # Then we load the reaction, instrument, and data file\n",
    "            cofeed_analysis.results()\n",
    "            \n",
    "def cofeed_on_report_button_clicked(b):\n",
    "    with cofeed_output_report:\n",
    "        clear_output()\n",
    "        cofeed_analysis.export_to_excel()\n",
    "\n",
    "def clear_output_button(b):\n",
    "    with cofeed_output_analysis:\n",
    "        clear_output()\n",
    "\n",
    "\n",
    "cofeed_input_folder.observe(on_cofeed_dir_change, names='value')\n",
    "\n",
    "cofeed_button_analysis.on_click(cofeed_on_button_clicked)\n",
    "cofeed_button_report.on_click(cofeed_on_report_button_clicked)\n",
    "cofeed_button_clear.on_click(clear_output_button)\n",
    "\n",
    "# Setting up the display layout of the widgets\n",
    "cofeed_Data_Paths_Widget = VBox([cofeed_input_folder, cofeed_file, cofeed_ButtonSegment])\n",
    "#display(cofeed_Data_Paths_Widget)\n"
   ]
  },
  {
   "cell_type": "code",
   "execution_count": 89,
   "metadata": {
    "autorun": true,
    "jupyter": {
     "source_hidden": true
    },
    "tags": []
   },
   "outputs": [],
   "source": [
    "#### HIGH PRESSURE RIG LAYOUT\n",
    "\n",
    "layout = {'width': '700px'}  # Setting the widgets layout\n",
    "style = {'description_width': '100px'}  # Setting the widget style\n",
    "\n",
    "# The widget for raw data path\n",
    "HighP_main_input_folder = widgets.Text(\n",
    "    placeholder='Folder Path',\n",
    "    description='Directory',\n",
    "    disabled=False,\n",
    "    layout=layout, style=style)\n",
    "\n",
    "GC_file_Mid = widgets.Select(\n",
    "    description='Mid FID',\n",
    "    disabled=False,\n",
    "    layout=layout, style=style)\n",
    "\n",
    "GC_file_Rear = widgets.Select(\n",
    "    description='Rear FID',\n",
    "    disabled=False,\n",
    "    layout=layout, style=style)\n",
    "\n",
    "\n",
    "HighP_button_analysis = widgets.Button(description=\"Run Analysis\")\n",
    "HighP_output_analysis = widgets.Output()\n",
    "\n",
    "HighP_button_report = widgets.Button(description=\"Export to Excel\")\n",
    "HighP_output_report = widgets.Output()\n",
    "\n",
    "HighP_button_clear = widgets.Button(description=\"Clear Window\")\n",
    "\n",
    "\n",
    "HighP_Buttons = widgets.HBox([HighP_button_analysis, HighP_button_report, HighP_button_clear],\n",
    "                             layout=widgets.Layout(display='flex', flex_flow='row', padding='10px 0 0 175px'))\n",
    "HighP_Outputs = widgets.VBox([HighP_output_report, HighP_output_analysis])\n",
    "\n",
    "HighP_ButtonSegment = VBox([HighP_Buttons, HighP_Outputs])\n",
    "\n",
    "def on_HighP_dir_change(change):\n",
    "    files = os.listdir(change.new)\n",
    "    files_xls = [f for f in files if '.xls' in f]\n",
    "    GC_file_Mid.options = files_xls\n",
    "    GC_file_Rear.options = files_xls\n",
    "    \n",
    "    return\n",
    "    \n",
    "\n",
    "def HighP_on_button_clicked(b):\n",
    "    global HighP_analysis\n",
    "    \n",
    "    with HighP_output_analysis:\n",
    "        clear_output()\n",
    "        if (GC_file_Mid.value == '') or (GC_file_Rear.value == '') or (HighP_main_input_folder.value == ''):\n",
    "            print(\"Insert file and folder paths!!\")\n",
    "        else:\n",
    "            FID_Files = [os.path.join(HighP_main_input_folder.value, GC_file_Mid.value), os.path.join(HighP_main_input_folder.value, GC_file_Rear.value)]\n",
    "            MTH = Reaction(reac='mth-highP')  # First we define the reaction\n",
    "            HighP_Rig = HighPressureRig(FID_Files)  # Load instrument which contains instrument specific data such as respons factors\n",
    "            HighP_analysis = GC_Analysis(MTH, HighP_Rig)  # Then we load the reaction, instrument, and data file\n",
    "            HighP_analysis.results()\n",
    "            \n",
    "def HighP_on_report_button_clicked(b):\n",
    "    with HighP_output_report:\n",
    "        clear_output()\n",
    "        HighP_analysis.export_to_excel()\n",
    "        \n",
    "def HighP_clear_output_button(b):\n",
    "    with HighP_output_analysis:\n",
    "        clear_output()\n",
    "\n",
    "        \n",
    "HighP_main_input_folder.observe(on_HighP_dir_change, names='value')\n",
    "HighP_button_analysis.on_click(HighP_on_button_clicked)\n",
    "HighP_button_report.on_click(HighP_on_report_button_clicked)\n",
    "HighP_button_clear.on_click(HighP_clear_output_button)\n",
    "\n",
    "# Setting up the display layout of the widgets\n",
    "HihgP_Data_Paths_Widget = VBox([HighP_main_input_folder, GC_file_Mid, GC_file_Rear, HighP_ButtonSegment])\n",
    "#display(HihgP_Data_Paths_Widget)"
   ]
  },
  {
   "cell_type": "code",
   "execution_count": 90,
   "metadata": {
    "autorun": true,
    "jupyter": {
     "source_hidden": true
    }
   },
   "outputs": [
    {
     "data": {
      "application/vnd.jupyter.widget-view+json": {
       "model_id": "a4bcacb08e174ebfb9c735b245180594",
       "version_major": 2,
       "version_minor": 0
      },
      "text/plain": [
       "Tab(children=(VBox(children=(Text(value='', description='Directory', layout=Layout(width='700px'), placeholder…"
      ]
     },
     "metadata": {},
     "output_type": "display_data"
    }
   ],
   "source": [
    "tab_contents = ['CoFeed Rig', 'High Pressure Rig']\n",
    "children = [cofeed_Data_Paths_Widget, HihgP_Data_Paths_Widget]\n",
    "tab = widgets.Tab()\n",
    "tab.children = children\n",
    "[tab.set_title(i, title) for i, title in enumerate(tab_contents)]\n",
    "tab"
   ]
  }
 ],
 "metadata": {
  "kernelspec": {
   "display_name": "Python [conda env:tomocat]",
   "language": "python",
   "name": "conda-env-tomocat-py"
  },
  "language_info": {
   "codemirror_mode": {
    "name": "ipython",
    "version": 3
   },
   "file_extension": ".py",
   "mimetype": "text/x-python",
   "name": "python",
   "nbconvert_exporter": "python",
   "pygments_lexer": "ipython3",
   "version": "3.9.2"
  }
 },
 "nbformat": 4,
 "nbformat_minor": 4
}
