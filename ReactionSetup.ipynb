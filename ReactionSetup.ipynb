{
 "cells": [
  {
   "cell_type": "code",
   "execution_count": 1,
   "id": "3cb2c1e3",
   "metadata": {
    "autorun": true,
    "jupyter": {
     "source_hidden": true
    }
   },
   "outputs": [],
   "source": [
    "%matplotlib widget\r\n",
    "%load_ext autoreload\r\n",
    "%autoreload 2\r\n",
    "\r\n",
    "import ipywidgets as widgets\r\n",
    "from ipywidgets import Output, HBox, VBox, Text, FloatText\r\n",
    "\r\n",
    "\r\n",
    "import numpy as np\r\n",
    "import pandas as pd\r\n",
    "import matplotlib.pyplot as plt\r\n",
    "\r\n",
    "from uiocat.reactions import ReactionSetup\r\n",
    "\r\n",
    "\r\n",
    "plt.style.use('bmh')\r\n",
    "plt.rcParams[\"figure.figsize\"] = (6, 4)"
   ]
  },
  {
   "cell_type": "code",
   "execution_count": 2,
   "id": "d2b67b8b",
   "metadata": {},
   "outputs": [
    {
     "data": {
      "application/vnd.jupyter.widget-view+json": {
       "model_id": "e90b2b0b3afa4c3c95f7971179b70c18",
       "version_major": 2,
       "version_minor": 0
      },
      "text/plain": [
       "VBox(children=(Label(value='Test'), HBox(children=(Select(description='Compounds', layout=Layout(height='150px…"
      ]
     },
     "metadata": {},
     "output_type": "display_data"
    },
    {
     "data": {
      "application/vnd.jupyter.widget-view+json": {
       "model_id": "73e1056cb8314a8c85c905b87c70c887",
       "version_major": 2,
       "version_minor": 0
      },
      "text/plain": [
       "HBox(children=(VBox(children=(FloatText(value=0.0, description='Psat (mbar)', layout=Layout(height='30px', wid…"
      ]
     },
     "metadata": {},
     "output_type": "display_data"
    },
    {
     "data": {
      "application/vnd.jupyter.widget-view+json": {
       "model_id": "555c44d217a04ea6b14c68c70fd3a844",
       "version_major": 2,
       "version_minor": 0
      },
      "text/plain": [
       "Output()"
      ]
     },
     "metadata": {},
     "output_type": "display_data"
    },
    {
     "data": {
      "text/plain": [
       "<uiocat.reactions.ReactionSetup at 0x2c9ceb7eee0>"
      ]
     },
     "execution_count": 2,
     "metadata": {},
     "output_type": "execute_result"
    }
   ],
   "source": [
    "ReactionSetup()"
   ]
  }
 ],
 "metadata": {
  "interpreter": {
   "hash": "a64f6659a6d65473ce498605c2eaf3b9aa9adfa193729c443bc06bd2a9b308bd"
  },
  "kernelspec": {
   "display_name": "Python [conda env:tomocat]",
   "language": "python",
   "name": "conda-env-tomocat-py"
  },
  "language_info": {
   "codemirror_mode": {
    "name": "ipython",
    "version": 3
   },
   "file_extension": ".py",
   "mimetype": "text/x-python",
   "name": "python",
   "nbconvert_exporter": "python",
   "pygments_lexer": "ipython3",
   "version": "3.9.2"
  }
 },
 "nbformat": 4,
 "nbformat_minor": 5
}
